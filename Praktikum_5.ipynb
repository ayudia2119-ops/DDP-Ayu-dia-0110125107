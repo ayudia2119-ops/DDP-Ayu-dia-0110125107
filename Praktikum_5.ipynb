{
  "nbformat": 4,
  "nbformat_minor": 0,
  "metadata": {
    "colab": {
      "provenance": [],
      "authorship_tag": "ABX9TyNoxWwcLOTwzsTKFOCmc5jq",
      "include_colab_link": true
    },
    "kernelspec": {
      "name": "python3",
      "display_name": "Python 3"
    },
    "language_info": {
      "name": "python"
    }
  },
  "cells": [
    {
      "cell_type": "markdown",
      "metadata": {
        "id": "view-in-github",
        "colab_type": "text"
      },
      "source": [
        "<a href=\"https://colab.research.google.com/github/ayudia2119-ops/DDP-Ayu-dia-0110125107/blob/main/Praktikum_5.ipynb\" target=\"_parent\"><img src=\"https://colab.research.google.com/assets/colab-badge.svg\" alt=\"Open In Colab\"/></a>"
      ]
    },
    {
      "cell_type": "code",
      "execution_count": 7,
      "metadata": {
        "colab": {
          "base_uri": "https://localhost:8080/"
        },
        "collapsed": true,
        "id": "voY7f960yG6w",
        "outputId": "aaa19b2a-79b1-42ae-ad66-442a9cc525cc"
      },
      "outputs": [
        {
          "output_type": "stream",
          "name": "stdout",
          "text": [
            "['Beat Ember', 'motor', 200, 'Hitam', 2]\n",
            "['Beat Ember', 'motor', 200, 'Hitam', 2, 5000, 'metic']\n",
            "['Beat Ember', 'motor', 'Honda', 200, 'Hitam', 2, 5000, 'metic']\n"
          ]
        }
      ],
      "source": [
        "namakendaraan = \"Beat Ember\"\n",
        "jeniskendaraan = \"motor\"\n",
        "cckendaraan = 200\n",
        "warnakendaraan = \"Hitam\"\n",
        "rodakendaraan = 2\n",
        "\n",
        "data_kendaraan =[namakendaraan,jeniskendaraan,cckendaraan,warnakendaraan,rodakendaraan]\n",
        "\n",
        "print(data_kendaraan)\n",
        "\n",
        "hargakendaraan = 5000\n",
        "tipekendaraan = \"metic\"\n",
        "\n",
        "data_kendaraan.append(hargakendaraan)\n",
        "data_kendaraan.append(tipekendaraan)\n",
        "print(data_kendaraan)\n",
        "\n",
        "merkkendaraan = \"Honda\"\n",
        "data_kendaraan.insert(2, merkkendaraan)\n",
        "print(data_kendaraan)"
      ]
    },
    {
      "cell_type": "code",
      "source": [
        "pilihan = input(\"\"\"\n",
        "silahkan pilih menu yang di inginkan\n",
        "====================================\n",
        "1. Luas persegi\n",
        "2. Luas lingkaran\n",
        "3. Luas segitiga\n",
        "====================================\n",
        "Kirimkan hanya angka saja,\n",
        "jawaban = \"\"\")\n",
        "\n",
        "print(type(pilihan))\n",
        "match pilihan:\n",
        "  case 1:\n",
        "    print(\"anda memilih Luas persegi silahkan isi data di bawah\")\n",
        "    sisi = int(input(\"sisi = \"))\n",
        "    luas = sisi * sisi\n",
        "\n",
        "    print(f\"Luas persegi dengan sisi (sisi) adalah (luas)\")\n",
        "    #Luas persegi\n",
        "  case 2:\n",
        "    #Luas lingkaran\n",
        "    # phi * jarijari**2\n",
        "    print (\"anda memilih Luas lingkaran silahkan isi data di bawah\")\n",
        "    jarijari = int(input(\"jarijari = \"))\n",
        "    luas = 3.14 * jarijari**2\n",
        "    print(f\"Luas lingkaran dengan jarijari (jarijari) adalah (luas)\")\n",
        "  case 3:\n",
        "    #Luas segitiga\n",
        "    #(alas * tinggi)/2\n",
        "    print (\"anda memilih Luas segitiga silahkan isi data di bawah\")\n",
        "    alas = int(input(\"alas =\"))\n",
        "    tinggi =int(input(\"tinggi =\"))\n",
        "    luas = alas * tinggi/2\n",
        "    print(f\"Luas segitiga dengan alas (alas) * tinggi (tinggi) adalah (luas)\")\n",
        "  case _:\n",
        "    print(\"ya Ndak tau kok nanya saya si\")"
      ],
      "metadata": {
        "colab": {
          "base_uri": "https://localhost:8080/"
        },
        "id": "Prey1slg9OV0",
        "outputId": "6b9f49cd-8630-4c55-8b33-686fc2a78170"
      },
      "execution_count": 19,
      "outputs": [
        {
          "output_type": "stream",
          "name": "stdout",
          "text": [
            "\n",
            "silahkan pilih menu yang di inginkan \n",
            "====================================\n",
            "1. Luas persegi\n",
            "2. Luas lingkaran\n",
            "3. Luas segitiga \n",
            "====================================\n",
            "Kirimkan hanya angka saja,\n",
            "jawaban = 24\n",
            "<class 'str'>\n",
            "ya Ndak tau kok nanya saya si\n"
          ]
        }
      ]
    }
  ]
}